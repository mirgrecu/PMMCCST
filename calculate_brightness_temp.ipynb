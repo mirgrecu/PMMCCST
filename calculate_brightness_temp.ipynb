{
 "cells": [
  {
   "cell_type": "code",
   "execution_count": 2,
   "metadata": {},
   "outputs": [
    {
     "name": "stdout",
     "output_type": "stream",
     "text": [
      "['so_subsets/1C-CS-81E41S160E64S.GPM.GMI.XCAL2016-C.20240901-S071747-E073028.059684.V07B.HDF5', 'so_subsets/2A-CS-81E41S160E64S.GPM.DPR.V9-20240130.20240901-S071900-E073029.059684.V07C.HDF5', 'so_subsets/2A-CS-81E41S160E64S.GPM.GMI.GPROF2021v1.20240901-S071747-E073028.059684.V07C.HDF5', 'so_subsets/2B-CS-81E41S160E64S.GPM.DPRGMI.CORRA2022.20240901-S071900-E073029.059684.V07C.HDF5']\n"
     ]
    }
   ],
   "source": [
    "f1C11='so_subsets/1C-CS-81E41S160E64S.GPM.GMI.XCAL2016-C.20240901-S054432-E055430.059683.V07B.HDF5'\n",
    "f2ADPR='so_subsets/2A-CS-81E41S160E64S.GPM.DPR.V9-20240130.20240901-S054546-E055514.059683.V07C.HDF5'\n",
    "f2BCMB='so_subsets/2B-CS-81E41S160E64S.GPM.DPRGMI.CORRA2022.20240901-S054546-E055514.059683.V07C.HDF5'\n",
    "import glob\n",
    "fnames=sorted(glob.glob('so_subsets/*.059684*.HDF5'))\n",
    "print(fnames)\n",
    "f1C11=fnames[0]\n",
    "f2ADPR=fnames[1]\n",
    "fgprof=fnames[2]\n",
    "f2BCMB=fnames[3]"
   ]
  },
  {
   "cell_type": "code",
   "execution_count": 4,
   "metadata": {},
   "outputs": [],
   "source": [
    "import io_subs\n",
    "import lkTables\n",
    "lookupT=lkTables.scattTables()"
   ]
  }
 ],
 "metadata": {
  "kernelspec": {
   "display_name": "base",
   "language": "python",
   "name": "python3"
  },
  "language_info": {
   "codemirror_mode": {
    "name": "ipython",
    "version": 3
   },
   "file_extension": ".py",
   "mimetype": "text/x-python",
   "name": "python",
   "nbconvert_exporter": "python",
   "pygments_lexer": "ipython3",
   "version": "3.10.14"
  }
 },
 "nbformat": 4,
 "nbformat_minor": 2
}
