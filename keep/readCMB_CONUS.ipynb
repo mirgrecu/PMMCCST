{
 "cells": [
  {
   "cell_type": "code",
   "execution_count": 3,
   "metadata": {},
   "outputs": [
    {
     "name": "stdout",
     "output_type": "stream",
     "text": [
      "659\n",
      "734\n"
     ]
    }
   ],
   "source": [
    "import glob\n",
    "fs_cmb=sorted(glob.glob('/Users/mgrecu/GPM/ORO/2A-CS/2B*CONUS*HDF5'))\n",
    "fs_1GMI=sorted(glob.glob('/Users/mgrecu/GPM/ORO/2A-CS/1C*CONUS*HDF5'))\n",
    "print(len(fs_cmb))\n",
    "print(len(fs_1GMI))\n",
    "#stop\n",
    "import netCDF4 as nc\n",
    "from pyresample import kd_tree, geometry\n",
    "from pyresample.kd_tree import resample_nearest, resample_gauss, resample_custom\n",
    "def readCMB(fname): # reads relevant data from the CMB file\n",
    "    fh_cmb=nc.Dataset(fname)\n",
    "    qv=fh_cmb[\"KuKaGMI/vaporDensity\"][:,:,:]\n",
    "    press=fh_cmb[\"KuKaGMI/airPressure\"][:,:,:]\n",
    "    envNodes=fh_cmb[\"KuKaGMI/envParamNode\"][:,:,:]\n",
    "    airTemp=fh_cmb[\"KuKaGMI/airTemperature\"][:,:,:]\n",
    "    skTemp=fh_cmb[\"KuKaGMI/skinTemperature\"][:,:]\n",
    "    binNodes=fh_cmb[\"KuKaGMI/phaseBinNodes\"][:,:]\n",
    "    pwc=fh_cmb[\"KuKaGMI/precipTotWaterCont\"][:,:,:]\n",
    "    precipTotRate=fh_cmb[\"KuKaGMI/precipTotRate\"][:,:,:]\n",
    "    sfcEmiss=fh_cmb[\"KuKaGMI/surfEmissivity\"][:,:,:]\n",
    "    dm=fh_cmb[\"KuKaGMI/precipTotDm\"][:,:,:]\n",
    "    cldw=fh_cmb[\"KuKaGMI/cloudLiqWaterCont\"][:,:,:]\n",
    "    sfcBin=fh_cmb[\"KuKaGMI/Input/surfaceRangeBin\"][:,:,:]\n",
    "    zCorrected=fh_cmb[\"KuKaGMI/correctedReflectFactor\"][:,:,:]\n",
    "    pType=fh_cmb[\"KuKaGMI/Input/precipitationType\"][:,:]\n",
    "    lon=fh_cmb[\"KuKaGMI/Longitude\"][:,:]\n",
    "    lat=fh_cmb[\"KuKaGMI/Latitude\"][:,:]\n",
    "    return qv,press,envNodes,airTemp,skTemp,binNodes,pwc,sfcEmiss,dm,cldw,sfcBin,zCorrected,pType,lon,lat,precipTotRate\n",
    "\n",
    "def readCMB_ray(fname,j): # reads relevant data from the CMB file\n",
    "    fh_cmb=nc.Dataset(fname)\n",
    "    qv=fh_cmb[\"KuKaGMI/vaporDensity\"][:,j,:]\n",
    "    press=fh_cmb[\"KuKaGMI/airPressure\"][:,j,:]\n",
    "    envNodes=fh_cmb[\"KuKaGMI/envParamNode\"][:,j,:]\n",
    "    airTemp=fh_cmb[\"KuKaGMI/airTemperature\"][:,j,:]\n",
    "    skTemp=fh_cmb[\"KuKaGMI/skinTemperature\"][:,j]\n",
    "    binNodes=fh_cmb[\"KuKaGMI/phaseBinNodes\"][:,j]\n",
    "    pwc=fh_cmb[\"KuKaGMI/precipTotWaterCont\"][:,j,:]\n",
    "    sfcEmiss=fh_cmb[\"KuKaGMI/surfEmissivity\"][:,j,:]\n",
    "    dm=fh_cmb[\"KuKaGMI/precipTotDm\"][:,j,:]\n",
    "    cldw=fh_cmb[\"KuKaGMI/cloudLiqWaterCont\"][:,j,:]\n",
    "    sfcBin=fh_cmb[\"KuKaGMI/Input/surfaceRangeBin\"][:,j,:]\n",
    "    zCorrected=fh_cmb[\"KuKaGMI/correctedReflectFactor\"][:,j,:]\n",
    "    pType=fh_cmb[\"KuKaGMI/Input/precipitationType\"][:,j]\n",
    "    lon=fh_cmb[\"KuKaGMI/Longitude\"][:,j]\n",
    "    lat=fh_cmb[\"KuKaGMI/Latitude\"][:,j]\n",
    "    simTb=fh_cmb[\"KuKaGMI/simulatedBrightTemp\"][:,j,:]\n",
    "    #print(fh_cmb[\"KuKaGMI/Input/\"])\n",
    "    surfaceType=fh_cmb[\"KuKaGMI/Input/surfaceType\"][:,j]\n",
    "    precipTotRate=fh_cmb[\"KuKaGMI/precipTotRate\"][:,j,:]\n",
    "    return qv,press,envNodes,airTemp,skTemp,binNodes,pwc,sfcEmiss,dm,cldw,sfcBin,zCorrected,pType,lon,lat,surfaceType,simTb,precipTotRate\n",
    "\n",
    "def read1CGMI(fname): # reads relevant data from the 1C GMI file\n",
    "    with nc.Dataset(fname) as f:\n",
    "        #print(f)\n",
    "        #print(f['S1'])\n",
    "        lat_s1=f['S1/Latitude'][:]\n",
    "        lon_s1=f['S1/Longitude'][:]\n",
    "        tc_s1=f['S1/Tc'][:]\n",
    "        lat_s2=f['S2/Latitude'][:]\n",
    "        lon_s2=f['S2/Longitude'][:]\n",
    "        tc_s2=f['S2/Tc'][:]\n",
    "        sc_orient=f['S1/SCstatus/SCorientation'][:]\n",
    "        sc_lat=f['S1/SCstatus/SClatitude'][:]\n",
    "        sc_lon=f['S1/SCstatus/SClongitude'][:]\n",
    "    return lat_s1,lon_s1,tc_s1,lat_s2,lon_s2,tc_s2,sc_orient,sc_lat,sc_lon"
   ]
  },
  {
   "cell_type": "code",
   "execution_count": null,
   "metadata": {},
   "outputs": [],
   "source": [
    "imatched=0\n",
    "for f1 in fs_cmb:\n",
    "    orb=f1.split('.')[-3]\n",
    "    for f2 in fs_1GMI:\n",
    "        if orb in f2:\n",
    "            imatched+=1\n",
    "    print(f1,f2)\n",
    "\n",
    "print(imatched)"
   ]
  },
  {
   "cell_type": "code",
   "execution_count": 4,
   "metadata": {},
   "outputs": [
    {
     "name": "stderr",
     "output_type": "stream",
     "text": [
      "/Users/mgrecu/miniforge3/lib/python3.10/site-packages/pyresample/kd_tree.py:261: UserWarning: Possible more than 10 neighbours within 30000 m for some data points\n",
      "  get_neighbour_info(source_geo_def,\n"
     ]
    }
   ],
   "source": [
    "ntot=0\n",
    "import numpy as np\n",
    "j=24\n",
    "ien=0\n",
    "import matplotlib.pyplot as plt\n",
    "import xarray as xr\n",
    "scorientL=[]\n",
    "for f in fs_cmb[:]:\n",
    "    qv,press,envNodes,airTemp,skTemp,binNodes,pwc,sfcEmiss,dm,cldw,sfcBin,zCorrected,pType,lon,lat,sfcType,simTb,pRate=readCMB_ray(f,j)\n",
    "    orb=f.split('.')[-3]\n",
    "    imatched=0\n",
    "    for f2 in fs_1GMI:\n",
    "        if orb in f2:\n",
    "            imatched=1\n",
    "            lat_s1,lon_s1,tc_s1,lat_s2,lon_s2,tc_s2,sc_orient,sc_lat,sc_lon=read1CGMI(f2)\n",
    "            scorientL.append([sc_orient.max(),sc_orient.min()])\n",
    "\n",
    "            input_def = geometry.SwathDefinition(lons=lon_s1[:,:], lats=lat_s1[:,:])\n",
    "            output_def = geometry.SwathDefinition(lons=lon[:,np.newaxis], lats=lat[:,np.newaxis])\n",
    "# Resample the tb_s1 data to the CMB grid using gaussian resampling\n",
    "            wf = lambda r: 1 - r/20000.0\n",
    "            tb_s1_resampled = resample_custom(input_def, tc_s1[:,:,:], output_def, radius_of_influence=30000, neighbours=10, weight_funcs=[wf for k in range(9)], fill_value=None)\n",
    "            input_def = geometry.SwathDefinition(lons=lon_s2[:,:], lats=lat_s2[:,:])\n",
    "            tb_s2_resampled = resample_custom(input_def, tc_s2[:,:,:], output_def, radius_of_influence=30000, neighbours=10, weight_funcs=[wf for k in range(4)], fill_value=None)\n",
    "            \n",
    "            break\n",
    "    #break\n",
    "    if imatched==0:\n",
    "        continue\n",
    "    pType=(pType/1e7).astype(int)\n",
    "    #break\n",
    "    a=np.nonzero(pType[:]>0)\n",
    "    if len(a[0])<10:\n",
    "        continue\n",
    "    sc_orient_dpr=[]\n",
    "    for i in a[0]:\n",
    "        i1=np.argmin(np.abs(sc_lat-lat[i])+np.abs(sc_lon-lon[i]))\n",
    "        sc_orient_dpr.append(sc_orient[i1])\n",
    "    plt.pcolormesh(zCorrected[a[0],:,0].T,vmin=0,vmax=50,cmap='jet')\n",
    "    plt.ylim(87,40)\n",
    "    plt.savefig('Images/fig'+str(ien)+'.png')\n",
    "    plt.close('all')\n",
    "    ien+=1\n",
    "    ntot+=len(a[0])\n",
    "    tc_a=xr.DataArray(np.concatenate((tb_s1_resampled[:,0,:],tb_s2_resampled[:,0,:]),axis=1),dims=['all_scan','n13'],coords={'all_scan':range(pType.shape[0]),'n13':np.arange(13)})\n",
    "    sc_orient_a=xr.DataArray(sc_orient_dpr,dims=['scan'],coords={'scan':a[0]})\n",
    "    simTb_a=xr.DataArray(simTb[a[0],:],dims=['scan','nchan'],coords={'scan':a[0],'nchan':np.arange(13)})\n",
    "    qv_a=xr.DataArray(qv[a[0],:],dims=['scan','n9'],coords={'scan':a[0],'n9':np.arange(10)})\n",
    "    press_a=xr.DataArray(press[a[0],:],dims=['scan','n9'],coords={'scan':a[0],'n9':np.arange(10)})\n",
    "    envNodes_a=xr.DataArray(envNodes[a[0],:],dims=['scan','n9'],coords={'scan':a[0],'n9':np.arange(10)})\n",
    "    airTemp_a=xr.DataArray(airTemp[a[0],:],dims=['scan','n9'],coords={'scan':a[0],'n9':np.arange(10)})\n",
    "    skTemp_a=xr.DataArray(skTemp[a[0]],dims=['scan'],coords={'scan':a[0]})\n",
    "    binNodes_a=xr.DataArray(binNodes[a[0]],dims=['scan','n5'],coords={'scan':a[0],'n5':np.arange(5)})\n",
    "    pwc_a=xr.DataArray(pwc[a[0],:],dims=['scan','nbins'],coords={'scan':a[0],'nbins':np.arange(88)})\n",
    "    pRate_a=xr.DataArray(pRate[a[0],:],dims=['scan','nbins'],coords={'scan':a[0],'nbins':np.arange(88)})\n",
    "    sfcEmiss_a=xr.DataArray(sfcEmiss[a[0],:],dims=['scan','nchan'],coords={'scan':a[0],'nchan':np.arange(13)})\n",
    "    dm_a=xr.DataArray(dm[a[0],:],dims=['scan','nbins'],coords={'scan':a[0],'nbins':np.arange(88)})\n",
    "    cldw_a=xr.DataArray(cldw[a[0],:],dims=['scan','nbins'],coords={'scan':a[0],'nbins':np.arange(88)})\n",
    "    sfcBin_a=xr.DataArray(sfcBin[a[0],0],dims=['scan'],coords={'scan':a[0]})\n",
    "    zCorrected_a=xr.DataArray(zCorrected[a[0],:,:],dims=['scan','nbins','nf'],coords={'scan':a[0],'nbins':np.arange(88),'nf':np.arange(2)})\n",
    "    pType_a=xr.DataArray(pType[a[0]],dims=['scan'],coords={'scan':a[0]})\n",
    "    lon_a=xr.DataArray(lon[a[0]],dims=['scan'],coords={'scan':a[0]})\n",
    "    lat_a=xr.DataArray(lat[a[0]],dims=['scan'],coords={'scan':a[0]})\n",
    "    sfcType_a=xr.DataArray(sfcType[a[0]],dims=['scan'],coords={'scan':a[0]})\n",
    "    ds=xr.Dataset({'qv':qv_a,'press':press_a,'envNodes':envNodes_a,'airTemp':airTemp_a,'skTemp':skTemp_a,'binNodes':binNodes_a,'pwc':pwc_a,'sfcEmiss':sfcEmiss_a,'dm':dm_a,'cldw':cldw_a,'sfcBin':sfcBin_a,'zCorrected':zCorrected_a,'pType':pType_a,'lon':lon_a,'lat':lat_a,'sfcType':sfcType_a,'tc':tc_a, 'simTb':simTb_a,'sc_orient':sc_orient_a,'pRate':pRate_a})\n",
    "    compLev=5\n",
    "    encoding = {var: {'zlib': True, 'complevel': compLev} for var in ds.data_vars}\n",
    "    ds.to_netcdf('subsets/CORRA_CONUS_subset%3.3i.nc'%ien,encoding=encoding)\n",
    "    \n",
    "    # https://github.com/HamedBaghal/One_Dimensional_PSWFs"
   ]
  },
  {
   "cell_type": "code",
   "execution_count": 32,
   "metadata": {},
   "outputs": [
    {
     "name": "stdout",
     "output_type": "stream",
     "text": [
      "(329,)\n",
      "Shape: (329, 221)\n",
      "Lons: [[-- -- -- ... -- -- --]\n",
      " [-- -- -- ... -- -- --]\n",
      " [-- -- -- ... -- -- --]\n",
      " ...\n",
      " [-- -- -- ... -- -- --]\n",
      " [-- -- -- ... -- -- --]\n",
      " [-- -- -- ... -- -- --]]\n",
      "Lats: [[-- -- -- ... -- -- --]\n",
      " [-- -- -- ... -- -- --]\n",
      " [-- -- -- ... -- -- --]\n",
      " ...\n",
      " [-- -- -- ... -- -- --]\n",
      " [-- -- -- ... -- -- --]\n",
      " [-- -- -- ... -- -- --]]\n"
     ]
    }
   ],
   "source": [
    "print(sc_orient.shape)\n",
    "print(input_def)"
   ]
  },
  {
   "cell_type": "code",
   "execution_count": 28,
   "metadata": {},
   "outputs": [
    {
     "name": "stdout",
     "output_type": "stream",
     "text": [
      "(array([398.,   0.,   0.,   0.,   0.,   0.,   0.,   0.,   0.,   0.,   0.,\n",
      "         0.,   0.,   0.,   0.,   0.,   0.,   0.,   0.,   0.,   0.,   0.,\n",
      "         0.,   0.,   0.,   0.,   0.,   0.,   0.,   0.,   0.,   0.,   0.,\n",
      "         0.,   0.,   0.,   0.,   0.,   0.,   0.,   0.,   0.,   0.,   0.,\n",
      "         0.,   0.,   0.,   0.,   0.,   0.,   0.,   0.,   0.,   0.,   0.,\n",
      "         0.,   0.,   0.,   0.,   0.,   0.,   0.,   0.,   0.,   0.,   0.,\n",
      "         0.,   0.,   0.,   0.,   0.,   0.,   0.,   0.,   0.,   0.,   0.,\n",
      "         0.,   0.,   0.,   0.,   0.,   0.,   0.,   0.,   0.,   0.,   0.,\n",
      "         0.,   0.,   0.,   0.,   0.,   0.,   0.,   0.,   0.,   0.,   0.,\n",
      "       254.]), array([  0. ,   1.8,   3.6,   5.4,   7.2,   9. ,  10.8,  12.6,  14.4,\n",
      "        16.2,  18. ,  19.8,  21.6,  23.4,  25.2,  27. ,  28.8,  30.6,\n",
      "        32.4,  34.2,  36. ,  37.8,  39.6,  41.4,  43.2,  45. ,  46.8,\n",
      "        48.6,  50.4,  52.2,  54. ,  55.8,  57.6,  59.4,  61.2,  63. ,\n",
      "        64.8,  66.6,  68.4,  70.2,  72. ,  73.8,  75.6,  77.4,  79.2,\n",
      "        81. ,  82.8,  84.6,  86.4,  88.2,  90. ,  91.8,  93.6,  95.4,\n",
      "        97.2,  99. , 100.8, 102.6, 104.4, 106.2, 108. , 109.8, 111.6,\n",
      "       113.4, 115.2, 117. , 118.8, 120.6, 122.4, 124.2, 126. , 127.8,\n",
      "       129.6, 131.4, 133.2, 135. , 136.8, 138.6, 140.4, 142.2, 144. ,\n",
      "       145.8, 147.6, 149.4, 151.2, 153. , 154.8, 156.6, 158.4, 160.2,\n",
      "       162. , 163.8, 165.6, 167.4, 169.2, 171. , 172.8, 174.6, 176.4,\n",
      "       178.2, 180. ]), <BarContainer object of 100 artists>)\n"
     ]
    },
    {
     "data": {
      "image/png": "[encoded data removed]",
      "text/plain": [
       "<Figure size 640x480 with 1 Axes>"
      ]
     },
     "metadata": {},
     "output_type": "display_data"
    }
   ],
   "source": [
    "scorientL=np.array(scorientL)\n",
    "print(plt.hist(scorientL[:,0],bins=100))"
   ]
  },
  {
   "cell_type": "code",
   "execution_count": 6,
   "metadata": {},
   "outputs": [
    {
     "name": "stdout",
     "output_type": "stream",
     "text": [
      "(329, 221, 4)\n"
     ]
    }
   ],
   "source": [
    "print(tc_s2.shape)"
   ]
  },
  {
   "cell_type": "code",
   "execution_count": 37,
   "metadata": {},
   "outputs": [
    {
     "name": "stdout",
     "output_type": "stream",
     "text": [
      "032082\n"
     ]
    }
   ],
   "source": [
    "print(f.split('.')[-3])    "
   ]
  }
 ],
 "metadata": {
  "kernelspec": {
   "display_name": "base",
   "language": "python",
   "name": "python3"
  },
  "language_info": {
   "codemirror_mode": {
    "name": "ipython",
    "version": 3
   },
   "file_extension": ".py",
   "mimetype": "text/x-python",
   "name": "python",
   "nbconvert_exporter": "python",
   "pygments_lexer": "ipython3",
   "version": "3.10.14"
  }
 },
 "nbformat": 4,
 "nbformat_minor": 2
}
