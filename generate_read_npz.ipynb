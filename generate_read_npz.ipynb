{
 "cells": [
  {
   "cell_type": "code",
   "execution_count": 7,
   "metadata": {},
   "outputs": [
    {
     "name": "stdout",
     "output_type": "stream",
     "text": [
      "def get_norm_param_(tc,sfc_type,sk_temp,oe_wvp,near_sfc_precip,xenc,xenc_prec,xenv_enc,fname):\n",
      "    py_fname = ffi.string(fname).decode('utf-8')\n",
      "    npz=np.load(py_fname)\n",
      "    tc= np.frombuffer(ffi.buffer(ctc,163072*4),np.dtype('f4')).reshape(2,128,49,13)\n",
      "    tc[:]=npz['tc']\n",
      "    sfc_type= np.frombuffer(ffi.buffer(csfc_type,12544*4),np.dtype('f4')).reshape(2,128,49)\n",
      "    sfc_type[:]=npz['sfc_type']\n",
      "    sk_temp= np.frombuffer(ffi.buffer(csk_temp,12544*4),np.dtype('f4')).reshape(2,128,49)\n",
      "    sk_temp[:]=npz['sk_temp']\n",
      "    oe_wvp= np.frombuffer(ffi.buffer(coe_wvp,12544*4),np.dtype('f4')).reshape(2,128,49)\n",
      "    oe_wvp[:]=npz['oe_wvp']\n",
      "    near_sfc_precip= np.frombuffer(ffi.buffer(cnear_sfc_precip,12544*4),np.dtype('f4')).reshape(2,128,49)\n",
      "    near_sfc_precip[:]=npz['near_sfc_precip']\n",
      "    xenc= np.frombuffer(ffi.buffer(cxenc,50176*4),np.dtype('f4')).reshape(2,128,49,4)\n",
      "    xenc[:]=npz['xenc']\n",
      "    xenc_prec= np.frombuffer(ffi.buffer(cxenc_prec,75264*4),np.dtype('f4')).reshape(2,128,49,6)\n",
      "    xenc_prec[:]=npz['xenc_prec']\n",
      "    xenv_enc= np.frombuffer(ffi.buffer(cxenv_enc,50176*4),np.dtype('f4')).reshape(2,128,49,4)\n",
      "    xenv_enc[:]=npz['xenv_enc']\n"
     ]
    },
    {
     "data": {
      "text/plain": [
       "1151"
      ]
     },
     "execution_count": 7,
     "metadata": {},
     "output_type": "execute_result"
    }
   ],
   "source": [
    "vars_string=['tc','sfc_type','sk_temp','oe_wvp','near_sfc_precip','xenc','xenc_prec','xenv_enc']\n",
    "import numpy as np\n",
    "norm_param=np.load('GMI_ONNX_Models/norm_param_land.npz')\n",
    "shape_List=[]\n",
    "var_st_L=[]\n",
    "var_list=''\n",
    "for var in vars_string:\n",
    "    var_list+=var+','\n",
    "def_state='def get_norm_param_(%s,fname):'%var_list[:-1]\n",
    "var_st_L.append(def_state)\n",
    "print(def_state.expandtabs(4))\n",
    "st1='\\tpy_fname = ffi.string(fname).decode(\\'utf-8\\')'\n",
    "st2='\\tnpz=np.load(py_fname)'\n",
    "print(st1.expandtabs(4))\n",
    "print(st2.expandtabs(4))\n",
    "var_st_L.append(st1.expandtabs(4))\n",
    "var_st_L.append(st2.expandtabs(4))\n",
    "for var in vars_string:\n",
    "    #print(var)\n",
    "    #print(norm_param[var].shape)\n",
    "    shape_List.append(norm_param[var].shape)\n",
    "    nprod=1\n",
    "    shape_string=''\n",
    "    for s in shape_List[-1]:\n",
    "        nprod*=s\n",
    "        shape_string+=str(s)+','\n",
    "\n",
    "    shape_string=shape_string[:-1]\n",
    "    var_st='\\t%s= np.frombuffer(ffi.buffer(c%s,%i*4),np.dtype(\\'f4\\')).reshape(%s)'%(var,var,nprod,shape_string)\n",
    "    var_st_L.append(var_st.expandtabs(4))\n",
    "    print(var_st.expandtabs(4))\n",
    "    var_st='\\t%s[:]=npz[\\'%s\\']'%(var,var)\n",
    "    var_st_L.append(var_st.expandtabs(4))\n",
    "    print(var_st.expandtabs(4))\n",
    "    #print('---')\n",
    "open('get_norm_param_land.py','w').write('\\n'.join(var_st_L))\n"
   ]
  },
  {
   "cell_type": "code",
   "execution_count": null,
   "metadata": {},
   "outputs": [
    {
     "name": "stdout",
     "output_type": "stream",
     "text": [
      "    real :: tc(2,128,49,13)\n",
      "    real :: sfc_type(2,128,49)\n",
      "    real :: sk_temp(2,128,49)\n",
      "    real :: oe_wvp(2,128,49)\n",
      "    real :: near_sfc_precip(2,128,49)\n",
      "    real :: xenc(2,128,49,4)\n",
      "    real :: xenc_prec(2,128,49,6)\n",
      "    real :: xenv_enc(2,128,49,4)\n",
      "['TYPE scaler_2d', '    real :: tc(2,128,49,13)', '    real :: sfc_type(2,128,49)', '    real :: sk_temp(2,128,49)', '    real :: oe_wvp(2,128,49)', '    real :: near_sfc_precip(2,128,49)', '    real :: xenc(2,128,49,4)', '    real :: xenc_prec(2,128,49,6)', '    real :: xenv_enc(2,128,49,4)', 'END TYPE scaler_2d']\n"
     ]
    },
    {
     "data": {
      "text/plain": [
       "531"
      ]
     },
     "execution_count": 8,
     "metadata": {},
     "output_type": "execute_result"
    }
   ],
   "source": [
    "\n",
    "var_st_L=[]\n",
    "var_def='TYPE scaler_2d'\n",
    "var_st_L.append(var_def)\n",
    "for var in vars_string:\n",
    "    shape_info=norm_param[var].shape\n",
    "    shape_string=''\n",
    "    for s in shape_info:\n",
    "        shape_string+=str(s)+','\n",
    "    var_stat='\\treal :: %s(%s)'%(var,shape_string[:-1])\n",
    "    print(var_stat.expandtabs(4))\n",
    "    var_st_L.append(var_stat.expandtabs(4))\n",
    "end_def='END TYPE scaler_2d'\n",
    "var_st_L.append(end_def)\n",
    "print(var_st_L)\n",
    "var_st='type (scaler_2d) :: scaler'\n",
    "var_st_L.append(var_st)\n",
    "var_st='character(100) :: fname,bin_fname'\n",
    "var_st_L.append(var_st)\n",
    "var_st='fname=\\'GMI_ONNX_Models/norm_param_land.npz\\''\n",
    "var_st_L.append(var_st)\n",
    "var_st='bin_fname=\\'GMI_ONNX_Models/norm_param_land.bin\\''\n",
    "var_st_L.append(var_st)\n",
    "var_list=''\n",
    "for var in vars_string:\n",
    "    var_list+='scaler%'+var+','\n",
    "def_state='call get_norm_param(%s,fname)'%var_list[:-1]\n",
    "var_st_L.append(def_state)\n",
    "var_st='open(10,file=bin_fname,form=\\'unformatted\\',status=\\'unknown\\')'\n",
    "var_st_L.append(var_st)\n",
    "for var in vars_string:\n",
    "    var_st='write(10)scaler%'+var\n",
    "    var_st_L.append(var_st)\n",
    "var_st='close(10)'\n",
    "var_st_L.append(var_st)\n",
    "open('scaler_2d_type.f90','w').write('\\n'.join(var_st_L))\n"
   ]
  }
 ],
 "metadata": {
  "kernelspec": {
   "display_name": "base",
   "language": "python",
   "name": "python3"
  },
  "language_info": {
   "codemirror_mode": {
    "name": "ipython",
    "version": 3
   },
   "file_extension": ".py",
   "mimetype": "text/x-python",
   "name": "python",
   "nbconvert_exporter": "python",
   "pygments_lexer": "ipython3",
   "version": "3.12.9"
  }
 },
 "nbformat": 4,
 "nbformat_minor": 2
}
