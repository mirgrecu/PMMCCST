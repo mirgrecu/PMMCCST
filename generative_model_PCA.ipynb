{
 "cells": [
  {
   "cell_type": "code",
   "execution_count": 18,
   "metadata": {},
   "outputs": [],
   "source": [
    "import netCDF4 as nc\n",
    "\n",
    "def read_subset(fname):\n",
    "    with nc.Dataset(fname) as ds:\n",
    "        qv=ds['qv'][:]\n",
    "        press=ds['press'][:]\n",
    "        envNodes=ds['envNodes'][:]\n",
    "        airTemp=ds['airTemp'][:]\n",
    "        skTemp=ds['skTemp'][:]\n",
    "        binNodes=ds['binNodes'][:]\n",
    "        pwc=ds['pwc'][:]\n",
    "        sfcEmiss=ds['sfcEmiss'][:]\n",
    "        dm=ds['dm'][:]\n",
    "        cldw=ds['cldw'][:]\n",
    "        sfcBin=ds['sfcBin'][:]\n",
    "        zCorrected=ds['zCorrected'][:]\n",
    "        pType=ds['pType'][:]\n",
    "        lon=ds['lon'][:]\n",
    "        lat=ds['lat'][:]\n",
    "        sfcType=ds['sfcType'][:]\n",
    "        tc=ds['tc'][:]\n",
    "        tb_sim=ds['simTb'][:]\n",
    "        scan=ds['scan'][:]\n",
    "        pRate=ds['pRate'][:]\n",
    "    return qv,press,envNodes,airTemp,skTemp,binNodes,pwc,sfcEmiss,dm,cldw,sfcBin,zCorrected,pType,lon,lat,sfcType,tc,tb_sim,scan,pRate\n",
    "\n",
    "import glob\n",
    "\n",
    "fnames=sorted(glob.glob('subsets/*.nc'))\n",
    "\n",
    "import numpy as np\n",
    "nprofs=0\n",
    "tb_obsL=[]\n",
    "tb_obsL_m1=[]\n",
    "tb_obsL_p1=[]\n",
    "tb_simL=[]\n",
    "dbinL=[]\n",
    "dmL=[]\n",
    "pwcL=[]\n",
    "pRateL=[]\n",
    "bin_zdL=[]\n",
    "pTypeL=[]\n",
    "zCorrectedL=[]\n",
    "for f in fnames:\n",
    "    qv,press,envNodes,airTemp,skTemp,binNodes,pwc,\\\n",
    "        sfcEmiss,dm,cldw,sfcBin,zCorrected,pType,lon,lat,sfcType,tc,tb_sim,scan,pRate=read_subset(f)\n",
    "    a=np.nonzero(binNodes[:,2]<76)\n",
    "    dbinL.extend(binNodes[a[0],4]-binNodes[a[0],2])\n",
    "    for i1 in a[0]:\n",
    "        if pType[i1]>3:\n",
    "            continue\n",
    "        if binNodes[i1,0]>binNodes[i1,2]:\n",
    "            continue\n",
    "        if binNodes[i1,4]-binNodes[i1,2]>11:\n",
    "            n1=int(binNodes[i1,2]-53)\n",
    "            n2=int(binNodes[i1,2]+11)\n",
    "            pwcL.append(pwc[i1,n1:n2])\n",
    "            dmL.append(dm[i1,n1:n2])\n",
    "            pRateL.append(pRate[i1,n1:n2])\n",
    "            zCorrectedL.append(zCorrected[i1,n1:n2,0])\n",
    "            bin_zdL.append(binNodes[i1,2])\n",
    "            pTypeL.append(pType[i1])\n",
    "    tb_simL.extend(tb_sim[a[0],6])\n",
    "    am1=scan[a]-1\n",
    "    am1[am1<0]=0\n",
    "    ap1=scan[a]+1\n",
    "    ap1[ap1>len(tc)-1]=len(tc)-1\n",
    "    tb_obsL.extend(tc[scan[a],6])\n",
    "    tb_obsL_m1.extend(tc[am1,6])\n",
    "    tb_obsL_p1.extend(tc[ap1,6])\n",
    "    nprofs+=len(a[0])\n",
    "    "
   ]
  },
  {
   "cell_type": "code",
   "execution_count": 19,
   "metadata": {},
   "outputs": [],
   "source": [
    "pwcL=np.array(pwcL)\n",
    "pRateL=np.array(pRateL)\n",
    "dmL=np.array(dmL)\n",
    "zCorrectedL=np.array(zCorrectedL)\n",
    "zCorrectedL[zCorrectedL<0]=0\n",
    "zCorrectedL[zCorrectedL!=zCorrectedL]=0\n",
    "dmL[dmL!=dmL]=0\n",
    "\n",
    "import matplotlib.pyplot as plt\n",
    "import matplotlib.colors as c\n",
    "dbinL=np.array(dbinL)\n",
    "n1=np.nonzero(dbinL>11) \n",
    "\n",
    "\n",
    "pRateL=np.array(pRateL)\n",
    "dmL=np.array(dmL)\n",
    "pRateL_log = np.log10(1 + pRateL)\n",
    "pRateL_mean=pRateL_log.mean(axis=0)\n",
    "pRateL_std=pRateL_log.std(axis=0)\n",
    "pRateL_log_norm = (pRateL_log - pRateL_mean)/(pRateL_std+1e-3)\n",
    "dmL_log = np.log10(1 + 30*dmL)\n",
    "dmL_mean=dmL_log.mean(axis=0)\n",
    "dmL_std=dmL_log.std(axis=0)\n",
    "dmL_log_norm = (dmL_log - dmL_mean)/(dmL_std+1e-3)\n",
    "\n",
    "precip_dm=np.concatenate((pRateL_log_norm[:,np.newaxis,:],dmL_log_norm[:,np.newaxis,:]),axis=1)\n",
    "\n"
   ]
  },
  {
   "cell_type": "code",
   "execution_count": 20,
   "metadata": {},
   "outputs": [],
   "source": [
    "\n",
    "import matplotlib.pyplot as plt\n",
    "import matplotlib.colors as c\n",
    "from sklearn.decomposition import PCA\n",
    "from sklearn.cluster import KMeans\n",
    "\n",
    "nc=49\n",
    "\n",
    "kmeans=KMeans(n_clusters=nc)\n",
    "\n",
    "kmeans.fit(precip_dm[:,:,-52:].reshape(-1,104))\n",
    "\n",
    "covL=[]\n",
    "centroidsL=kmeans.cluster_centers_\n",
    "\n",
    "for i in range(nc):\n",
    "    a=np.nonzero(kmeans.labels_==i)\n",
    "    covL.append(np.cov(precip_dm[a[0],:,-52:].reshape(-1,104).T))\n",
    "\n",
    "T=np.zeros((nc,nc))\n",
    "for i,label in enumerate(kmeans.labels_[:-1]):\n",
    "    label1=kmeans.labels_[i+1]\n",
    "    T[label,label1]+=1\n"
   ]
  },
  {
   "cell_type": "code",
   "execution_count": 21,
   "metadata": {},
   "outputs": [],
   "source": [
    "for i in range(nc):\n",
    "    T[i,:]=T[i,:]/np.sum(T[i,:])\n",
    "\n",
    "from numba import jit\n",
    "\n",
    "def sample_markov(T,init_state,n):\n",
    "    nstates=T.shape[0]\n",
    "    state=init_state\n",
    "    states=np.zeros(n)\n",
    "    for i in range(n):\n",
    "        states[i]=state\n",
    "        state=np.random.choice(nstates,p=T[state,:])\n",
    "    return states\n",
    "\n",
    "states=sample_markov(T,10,256)\n"
   ]
  },
  {
   "cell_type": "code",
   "execution_count": 26,
   "metadata": {},
   "outputs": [],
   "source": [
    "precipL=[]\n",
    "from scipy.linalg import cholesky\n",
    "def sample_gaussian(mu,cov,n):\n",
    "    L=cholesky(cov)\n",
    "    nvar=len(mu)\n",
    "    x=np.random.normal(size=(nvar,n))\n",
    "    return mu+np.dot(L,x)\n",
    "\n",
    "def sample_gaussian_1d(mu,cov):\n",
    "    nvar=len(mu)\n",
    "    L=cholesky(cov+1e-3*np.eye(nvar))\n",
    "    x=np.random.normal(size=(nvar,1))\n",
    "    return (mu+np.dot(L,x)[:,0])\n",
    "\n",
    "x_last=np.random.normal(size=(104,1))\n",
    "def sample_gaussian_svd_1d(mu,cov):\n",
    "    nvar=len(mu)\n",
    "    U, S, Vt = np.linalg.svd(cov, full_matrices=True)\n",
    "    x=0.85*np.random.normal(size=(nvar,1))+0.25*x_last\n",
    "    threshold = 0.01\n",
    "    S_filtered = np.where(S > threshold, S, 0)\n",
    "    return (mu+x.T @ np.sqrt(np.diag(S_filtered)) @ Vt)[0,:], x\n",
    "\n",
    "for istate in states:\n",
    "    #precip_dm_sample=np.random.multivariate_normal(centroidsL[int(istate)],covL[int(istate)])\n",
    "    precip_dm_sample,x_last=sample_gaussian_svd_1d(centroidsL[int(istate)],covL[int(istate)])\n",
    "    precip=precip_dm_sample[:52]*pRateL_std[-52:]+pRateL_mean[-52:]\n",
    "    precip_nat=10**(precip)-1\n",
    "    precip_nat[precip_nat<0.01]=0\n",
    "    precipL.append(precip_nat)"
   ]
  },
  {
   "cell_type": "code",
   "execution_count": 27,
   "metadata": {},
   "outputs": [
    {
     "data": {
      "text/plain": [
       "<matplotlib.colorbar.Colorbar at 0x122e13ee0>"
      ]
     },
     "execution_count": 27,
     "metadata": {},
     "output_type": "execute_result"
    },
    {
     "data": {
      "image/png": "[encoded data removed]",
      "text/plain": [
       "<Figure size 1000x500 with 2 Axes>"
      ]
     },
     "metadata": {},
     "output_type": "display_data"
    }
   ],
   "source": [
    "plt.figure(figsize=(10,5))\n",
    "plt.pcolormesh(np.array(precipL).T,cmap='jet',norm=c.LogNorm(vmin=0.1,vmax=100))\n",
    "plt.ylim(51,0)\n",
    "plt.colorbar()"
   ]
  },
  {
   "cell_type": "code",
   "execution_count": 58,
   "metadata": {},
   "outputs": [
    {
     "name": "stdout",
     "output_type": "stream",
     "text": [
      "(104,)\n"
     ]
    }
   ],
   "source": [
    "# implement drawing from a multivariate normal distribution using cholesky decomposition\n",
    "\n",
    "\n",
    "precip_dm1=sample_gaussian_1d(centroidsL[0],covL[0])\n",
    "print(precip_dm1.shape) "
   ]
  }
 ],
 "metadata": {
  "kernelspec": {
   "display_name": "base",
   "language": "python",
   "name": "python3"
  },
  "language_info": {
   "codemirror_mode": {
    "name": "ipython",
    "version": 3
   },
   "file_extension": ".py",
   "mimetype": "text/x-python",
   "name": "python",
   "nbconvert_exporter": "python",
   "pygments_lexer": "ipython3",
   "version": "3.10.14"
  }
 },
 "nbformat": 4,
 "nbformat_minor": 2
}
